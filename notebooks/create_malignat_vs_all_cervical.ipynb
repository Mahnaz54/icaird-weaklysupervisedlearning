{
 "cells": [
  {
   "cell_type": "code",
   "execution_count": 1,
   "metadata": {},
   "outputs": [],
   "source": [
    "import pandas as pd\n",
    "\n",
    "csv_path = '/home/mahnaz/Desktop/iCAIRD_new_slide_labels/weaklysupervised_algo/cervical/cervical_clean_mal_vs_all.csv'"
   ]
  },
  {
   "cell_type": "code",
   "execution_count": 2,
   "metadata": {},
   "outputs": [
    {
     "data": {
      "text/html": [
       "<div>\n",
       "<style scoped>\n",
       "    .dataframe tbody tr th:only-of-type {\n",
       "        vertical-align: middle;\n",
       "    }\n",
       "\n",
       "    .dataframe tbody tr th {\n",
       "        vertical-align: top;\n",
       "    }\n",
       "\n",
       "    .dataframe thead th {\n",
       "        text-align: right;\n",
       "    }\n",
       "</style>\n",
       "<table border=\"1\" class=\"dataframe\">\n",
       "  <thead>\n",
       "    <tr style=\"text-align: right;\">\n",
       "      <th></th>\n",
       "      <th>case_id</th>\n",
       "      <th>slide_id</th>\n",
       "      <th>label_old</th>\n",
       "      <th>train/valid/test</th>\n",
       "      <th>label</th>\n",
       "    </tr>\n",
       "  </thead>\n",
       "  <tbody>\n",
       "    <tr>\n",
       "      <th>0</th>\n",
       "      <td>IC-CX-00001</td>\n",
       "      <td>IC-CX-00001-01</td>\n",
       "      <td>normal_inflammation</td>\n",
       "      <td>valid</td>\n",
       "      <td>normal_inflammation</td>\n",
       "    </tr>\n",
       "    <tr>\n",
       "      <th>1</th>\n",
       "      <td>IC-CX-00002</td>\n",
       "      <td>IC-CX-00002-01</td>\n",
       "      <td>low_grade</td>\n",
       "      <td>valid</td>\n",
       "      <td>malignant</td>\n",
       "    </tr>\n",
       "    <tr>\n",
       "      <th>2</th>\n",
       "      <td>IC-CX-00003</td>\n",
       "      <td>IC-CX-00003-01</td>\n",
       "      <td>high_grade</td>\n",
       "      <td>train</td>\n",
       "      <td>malignant</td>\n",
       "    </tr>\n",
       "    <tr>\n",
       "      <th>3</th>\n",
       "      <td>IC-CX-00004</td>\n",
       "      <td>IC-CX-00004-01</td>\n",
       "      <td>normal_inflammation</td>\n",
       "      <td>valid</td>\n",
       "      <td>normal_inflammation</td>\n",
       "    </tr>\n",
       "    <tr>\n",
       "      <th>4</th>\n",
       "      <td>IC-CX-00005</td>\n",
       "      <td>IC-CX-00005-01</td>\n",
       "      <td>malignant</td>\n",
       "      <td>valid</td>\n",
       "      <td>malignant</td>\n",
       "    </tr>\n",
       "    <tr>\n",
       "      <th>...</th>\n",
       "      <td>...</td>\n",
       "      <td>...</td>\n",
       "      <td>...</td>\n",
       "      <td>...</td>\n",
       "      <td>...</td>\n",
       "    </tr>\n",
       "    <tr>\n",
       "      <th>2534</th>\n",
       "      <td>IC-CX-03136</td>\n",
       "      <td>IC-CX-03136-01</td>\n",
       "      <td>low_grade</td>\n",
       "      <td>test</td>\n",
       "      <td>malignant</td>\n",
       "    </tr>\n",
       "    <tr>\n",
       "      <th>2535</th>\n",
       "      <td>IC-CX-03137</td>\n",
       "      <td>IC-CX-03137-01</td>\n",
       "      <td>high_grade</td>\n",
       "      <td>test</td>\n",
       "      <td>malignant</td>\n",
       "    </tr>\n",
       "    <tr>\n",
       "      <th>2536</th>\n",
       "      <td>IC-CX-03138</td>\n",
       "      <td>IC-CX-03138-01</td>\n",
       "      <td>malignant</td>\n",
       "      <td>test</td>\n",
       "      <td>malignant</td>\n",
       "    </tr>\n",
       "    <tr>\n",
       "      <th>2537</th>\n",
       "      <td>IC-CX-03139</td>\n",
       "      <td>IC-CX-03139-01</td>\n",
       "      <td>high_grade</td>\n",
       "      <td>test</td>\n",
       "      <td>malignant</td>\n",
       "    </tr>\n",
       "    <tr>\n",
       "      <th>2538</th>\n",
       "      <td>IC-CX-03140</td>\n",
       "      <td>IC-CX-03140-01</td>\n",
       "      <td>low_grade</td>\n",
       "      <td>test</td>\n",
       "      <td>malignant</td>\n",
       "    </tr>\n",
       "  </tbody>\n",
       "</table>\n",
       "<p>2539 rows × 5 columns</p>\n",
       "</div>"
      ],
      "text/plain": [
       "          case_id        slide_id            label_old train/valid/test  \\\n",
       "0     IC-CX-00001  IC-CX-00001-01  normal_inflammation            valid   \n",
       "1     IC-CX-00002  IC-CX-00002-01            low_grade            valid   \n",
       "2     IC-CX-00003  IC-CX-00003-01           high_grade            train   \n",
       "3     IC-CX-00004  IC-CX-00004-01  normal_inflammation            valid   \n",
       "4     IC-CX-00005  IC-CX-00005-01            malignant            valid   \n",
       "...           ...             ...                  ...              ...   \n",
       "2534  IC-CX-03136  IC-CX-03136-01            low_grade             test   \n",
       "2535  IC-CX-03137  IC-CX-03137-01           high_grade             test   \n",
       "2536  IC-CX-03138  IC-CX-03138-01            malignant             test   \n",
       "2537  IC-CX-03139  IC-CX-03139-01           high_grade             test   \n",
       "2538  IC-CX-03140  IC-CX-03140-01            low_grade             test   \n",
       "\n",
       "                    label  \n",
       "0     normal_inflammation  \n",
       "1               malignant  \n",
       "2               malignant  \n",
       "3     normal_inflammation  \n",
       "4               malignant  \n",
       "...                   ...  \n",
       "2534            malignant  \n",
       "2535            malignant  \n",
       "2536            malignant  \n",
       "2537            malignant  \n",
       "2538            malignant  \n",
       "\n",
       "[2539 rows x 5 columns]"
      ]
     },
     "execution_count": 2,
     "metadata": {},
     "output_type": "execute_result"
    }
   ],
   "source": [
    "cervical_clean = pd.read_csv(csv_path)\n",
    "cervical_clean"
   ]
  },
  {
   "cell_type": "code",
   "execution_count": 3,
   "metadata": {},
   "outputs": [
    {
     "data": {
      "text/plain": [
       "malignant              1950\n",
       "normal_inflammation     589\n",
       "Name: label, dtype: int64"
      ]
     },
     "execution_count": 3,
     "metadata": {},
     "output_type": "execute_result"
    }
   ],
   "source": [
    "cervical_clean.label.value_counts()"
   ]
  },
  {
   "cell_type": "code",
   "execution_count": 4,
   "metadata": {},
   "outputs": [
    {
     "data": {
      "text/plain": [
       "train    1135\n",
       "test      825\n",
       "valid     579\n",
       "Name: train/valid/test, dtype: int64"
      ]
     },
     "execution_count": 4,
     "metadata": {},
     "output_type": "execute_result"
    }
   ],
   "source": [
    "cervical_clean['train/valid/test'].value_counts()"
   ]
  },
  {
   "cell_type": "code",
   "execution_count": null,
   "metadata": {},
   "outputs": [],
   "source": []
  }
 ],
 "metadata": {
  "kernelspec": {
   "display_name": "repath",
   "language": "python",
   "name": "repath"
  },
  "language_info": {
   "codemirror_mode": {
    "name": "ipython",
    "version": 3
   },
   "file_extension": ".py",
   "mimetype": "text/x-python",
   "name": "python",
   "nbconvert_exporter": "python",
   "pygments_lexer": "ipython3",
   "version": "3.6.12"
  }
 },
 "nbformat": 4,
 "nbformat_minor": 4
}
