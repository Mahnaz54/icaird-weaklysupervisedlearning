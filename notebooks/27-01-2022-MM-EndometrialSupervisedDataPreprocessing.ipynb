{
 "cells": [
  {
   "cell_type": "code",
   "execution_count": 1,
   "metadata": {},
   "outputs": [],
   "source": [
    "import pandas as pd\n",
    "import os\n",
    "import sys\n",
    "import glob\n",
    "from xlrd import * \n",
    "from pathlib import Path\n",
    "import warnings\n",
    "warnings.filterwarnings(\"ignore\")"
   ]
  },
  {
   "cell_type": "code",
   "execution_count": 2,
   "metadata": {},
   "outputs": [
    {
     "name": "stdout",
     "output_type": "stream",
     "text": [
      "*** No CODEPAGE record, no encoding_override: will use 'iso-8859-1'\n",
      "*** No CODEPAGE record, no encoding_override: will use 'iso-8859-1'\n",
      "*** No CODEPAGE record, no encoding_override: will use 'iso-8859-1'\n",
      "*** No CODEPAGE record, no encoding_override: will use 'iso-8859-1'\n",
      "*** No CODEPAGE record, no encoding_override: will use 'iso-8859-1'\n",
      "*** No CODEPAGE record, no encoding_override: will use 'iso-8859-1'\n",
      "*** No CODEPAGE record, no encoding_override: will use 'iso-8859-1'\n",
      "*** No CODEPAGE record, no encoding_override: will use 'iso-8859-1'\n",
      "*** No CODEPAGE record, no encoding_override: will use 'iso-8859-1'\n",
      "*** No CODEPAGE record, no encoding_override: will use 'iso-8859-1'\n",
      "*** No CODEPAGE record, no encoding_override: will use 'iso-8859-1'\n",
      "*** No CODEPAGE record, no encoding_override: will use 'iso-8859-1'\n",
      "*** No CODEPAGE record, no encoding_override: will use 'iso-8859-1'\n",
      "*** No CODEPAGE record, no encoding_override: will use 'iso-8859-1'\n",
      "*** No CODEPAGE record, no encoding_override: will use 'iso-8859-1'\n",
      "*** No CODEPAGE record, no encoding_override: will use 'iso-8859-1'\n",
      "*** No CODEPAGE record, no encoding_override: will use 'iso-8859-1'\n",
      "*** No CODEPAGE record, no encoding_override: will use 'iso-8859-1'\n",
      "*** No CODEPAGE record, no encoding_override: will use 'iso-8859-1'\n",
      "*** No CODEPAGE record, no encoding_override: will use 'iso-8859-1'\n",
      "*** No CODEPAGE record, no encoding_override: will use 'iso-8859-1'\n",
      "*** No CODEPAGE record, no encoding_override: will use 'iso-8859-1'\n",
      "*** No CODEPAGE record, no encoding_override: will use 'iso-8859-1'\n",
      "*** No CODEPAGE record, no encoding_override: will use 'iso-8859-1'\n",
      "*** No CODEPAGE record, no encoding_override: will use 'iso-8859-1'\n",
      "*** No CODEPAGE record, no encoding_override: will use 'iso-8859-1'\n",
      "*** No CODEPAGE record, no encoding_override: will use 'iso-8859-1'\n",
      "*** No CODEPAGE record, no encoding_override: will use 'iso-8859-1'\n",
      "*** No CODEPAGE record, no encoding_override: will use 'iso-8859-1'\n",
      "*** No CODEPAGE record, no encoding_override: will use 'iso-8859-1'\n",
      "*** No CODEPAGE record, no encoding_override: will use 'iso-8859-1'\n",
      "*** No CODEPAGE record, no encoding_override: will use 'iso-8859-1'\n",
      "*** No CODEPAGE record, no encoding_override: will use 'iso-8859-1'\n",
      "*** No CODEPAGE record, no encoding_override: will use 'iso-8859-1'\n",
      "*** No CODEPAGE record, no encoding_override: will use 'iso-8859-1'\n",
      "*** No CODEPAGE record, no encoding_override: will use 'iso-8859-1'\n",
      "*** No CODEPAGE record, no encoding_override: will use 'iso-8859-1'\n",
      "*** No CODEPAGE record, no encoding_override: will use 'iso-8859-1'\n",
      "*** No CODEPAGE record, no encoding_override: will use 'iso-8859-1'\n",
      "*** No CODEPAGE record, no encoding_override: will use 'iso-8859-1'\n",
      "*** No CODEPAGE record, no encoding_override: will use 'iso-8859-1'\n",
      "*** No CODEPAGE record, no encoding_override: will use 'iso-8859-1'\n",
      "*** No CODEPAGE record, no encoding_override: will use 'iso-8859-1'\n",
      "*** No CODEPAGE record, no encoding_override: will use 'iso-8859-1'\n",
      "*** No CODEPAGE record, no encoding_override: will use 'iso-8859-1'\n",
      "*** No CODEPAGE record, no encoding_override: will use 'iso-8859-1'\n",
      "*** No CODEPAGE record, no encoding_override: will use 'iso-8859-1'\n",
      "*** No CODEPAGE record, no encoding_override: will use 'iso-8859-1'\n",
      "*** No CODEPAGE record, no encoding_override: will use 'iso-8859-1'\n",
      "*** No CODEPAGE record, no encoding_override: will use 'iso-8859-1'\n",
      "*** No CODEPAGE record, no encoding_override: will use 'iso-8859-1'\n",
      "*** No CODEPAGE record, no encoding_override: will use 'iso-8859-1'\n",
      "*** No CODEPAGE record, no encoding_override: will use 'iso-8859-1'\n",
      "*** No CODEPAGE record, no encoding_override: will use 'iso-8859-1'\n",
      "*** No CODEPAGE record, no encoding_override: will use 'iso-8859-1'\n",
      "*** No CODEPAGE record, no encoding_override: will use 'iso-8859-1'\n",
      "*** No CODEPAGE record, no encoding_override: will use 'iso-8859-1'\n",
      "*** No CODEPAGE record, no encoding_override: will use 'iso-8859-1'\n",
      "*** No CODEPAGE record, no encoding_override: will use 'iso-8859-1'\n",
      "*** No CODEPAGE record, no encoding_override: will use 'iso-8859-1'\n",
      "*** No CODEPAGE record, no encoding_override: will use 'iso-8859-1'\n",
      "*** No CODEPAGE record, no encoding_override: will use 'iso-8859-1'\n",
      "*** No CODEPAGE record, no encoding_override: will use 'iso-8859-1'\n",
      "*** No CODEPAGE record, no encoding_override: will use 'iso-8859-1'\n",
      "*** No CODEPAGE record, no encoding_override: will use 'iso-8859-1'\n",
      "*** No CODEPAGE record, no encoding_override: will use 'iso-8859-1'\n",
      "*** No CODEPAGE record, no encoding_override: will use 'iso-8859-1'\n",
      "*** No CODEPAGE record, no encoding_override: will use 'iso-8859-1'\n",
      "*** No CODEPAGE record, no encoding_override: will use 'iso-8859-1'\n",
      "*** No CODEPAGE record, no encoding_override: will use 'iso-8859-1'\n",
      "*** No CODEPAGE record, no encoding_override: will use 'iso-8859-1'\n",
      "*** No CODEPAGE record, no encoding_override: will use 'iso-8859-1'\n",
      "*** No CODEPAGE record, no encoding_override: will use 'iso-8859-1'\n",
      "*** No CODEPAGE record, no encoding_override: will use 'iso-8859-1'\n",
      "*** No CODEPAGE record, no encoding_override: will use 'iso-8859-1'\n",
      "*** No CODEPAGE record, no encoding_override: will use 'iso-8859-1'\n",
      "*** No CODEPAGE record, no encoding_override: will use 'iso-8859-1'\n",
      "*** No CODEPAGE record, no encoding_override: will use 'iso-8859-1'\n",
      "*** No CODEPAGE record, no encoding_override: will use 'iso-8859-1'\n",
      "*** No CODEPAGE record, no encoding_override: will use 'iso-8859-1'\n",
      "*** No CODEPAGE record, no encoding_override: will use 'iso-8859-1'\n",
      "*** No CODEPAGE record, no encoding_override: will use 'iso-8859-1'\n",
      "*** No CODEPAGE record, no encoding_override: will use 'iso-8859-1'\n",
      "*** No CODEPAGE record, no encoding_override: will use 'iso-8859-1'\n",
      "*** No CODEPAGE record, no encoding_override: will use 'iso-8859-1'\n",
      "*** No CODEPAGE record, no encoding_override: will use 'iso-8859-1'\n",
      "*** No CODEPAGE record, no encoding_override: will use 'iso-8859-1'\n",
      "*** No CODEPAGE record, no encoding_override: will use 'iso-8859-1'\n",
      "*** No CODEPAGE record, no encoding_override: will use 'iso-8859-1'\n",
      "*** No CODEPAGE record, no encoding_override: will use 'iso-8859-1'\n",
      "*** No CODEPAGE record, no encoding_override: will use 'iso-8859-1'\n",
      "*** No CODEPAGE record, no encoding_override: will use 'iso-8859-1'\n",
      "*** No CODEPAGE record, no encoding_override: will use 'iso-8859-1'\n",
      "*** No CODEPAGE record, no encoding_override: will use 'iso-8859-1'\n",
      "*** No CODEPAGE record, no encoding_override: will use 'iso-8859-1'\n",
      "*** No CODEPAGE record, no encoding_override: will use 'iso-8859-1'\n",
      "*** No CODEPAGE record, no encoding_override: will use 'iso-8859-1'\n",
      "*** No CODEPAGE record, no encoding_override: will use 'iso-8859-1'\n",
      "*** No CODEPAGE record, no encoding_override: will use 'iso-8859-1'\n",
      "*** No CODEPAGE record, no encoding_override: will use 'iso-8859-1'\n",
      "*** No CODEPAGE record, no encoding_override: will use 'iso-8859-1'\n",
      "*** No CODEPAGE record, no encoding_override: will use 'iso-8859-1'\n",
      "*** No CODEPAGE record, no encoding_override: will use 'iso-8859-1'\n",
      "*** No CODEPAGE record, no encoding_override: will use 'iso-8859-1'\n",
      "*** No CODEPAGE record, no encoding_override: will use 'iso-8859-1'\n",
      "*** No CODEPAGE record, no encoding_override: will use 'iso-8859-1'\n",
      "*** No CODEPAGE record, no encoding_override: will use 'iso-8859-1'\n",
      "*** No CODEPAGE record, no encoding_override: will use 'iso-8859-1'\n",
      "*** No CODEPAGE record, no encoding_override: will use 'iso-8859-1'\n",
      "*** No CODEPAGE record, no encoding_override: will use 'iso-8859-1'\n",
      "*** No CODEPAGE record, no encoding_override: will use 'iso-8859-1'\n",
      "*** No CODEPAGE record, no encoding_override: will use 'iso-8859-1'\n",
      "*** No CODEPAGE record, no encoding_override: will use 'iso-8859-1'\n",
      "*** No CODEPAGE record, no encoding_override: will use 'iso-8859-1'\n",
      "*** No CODEPAGE record, no encoding_override: will use 'iso-8859-1'\n",
      "*** No CODEPAGE record, no encoding_override: will use 'iso-8859-1'\n",
      "*** No CODEPAGE record, no encoding_override: will use 'iso-8859-1'\n",
      "*** No CODEPAGE record, no encoding_override: will use 'iso-8859-1'\n",
      "*** No CODEPAGE record, no encoding_override: will use 'iso-8859-1'\n",
      "*** No CODEPAGE record, no encoding_override: will use 'iso-8859-1'\n",
      "*** No CODEPAGE record, no encoding_override: will use 'iso-8859-1'\n",
      "*** No CODEPAGE record, no encoding_override: will use 'iso-8859-1'\n",
      "*** No CODEPAGE record, no encoding_override: will use 'iso-8859-1'\n",
      "*** No CODEPAGE record, no encoding_override: will use 'iso-8859-1'\n",
      "*** No CODEPAGE record, no encoding_override: will use 'iso-8859-1'\n",
      "*** No CODEPAGE record, no encoding_override: will use 'iso-8859-1'\n",
      "*** No CODEPAGE record, no encoding_override: will use 'iso-8859-1'\n",
      "*** No CODEPAGE record, no encoding_override: will use 'iso-8859-1'\n",
      "*** No CODEPAGE record, no encoding_override: will use 'iso-8859-1'\n",
      "*** No CODEPAGE record, no encoding_override: will use 'iso-8859-1'\n",
      "*** No CODEPAGE record, no encoding_override: will use 'iso-8859-1'\n",
      "*** No CODEPAGE record, no encoding_override: will use 'iso-8859-1'\n",
      "*** No CODEPAGE record, no encoding_override: will use 'iso-8859-1'\n",
      "*** No CODEPAGE record, no encoding_override: will use 'iso-8859-1'\n",
      "*** No CODEPAGE record, no encoding_override: will use 'iso-8859-1'\n",
      "*** No CODEPAGE record, no encoding_override: will use 'iso-8859-1'\n",
      "*** No CODEPAGE record, no encoding_override: will use 'iso-8859-1'\n",
      "*** No CODEPAGE record, no encoding_override: will use 'iso-8859-1'\n",
      "*** No CODEPAGE record, no encoding_override: will use 'iso-8859-1'\n",
      "*** No CODEPAGE record, no encoding_override: will use 'iso-8859-1'\n",
      "*** No CODEPAGE record, no encoding_override: will use 'iso-8859-1'\n",
      "*** No CODEPAGE record, no encoding_override: will use 'iso-8859-1'\n",
      "*** No CODEPAGE record, no encoding_override: will use 'iso-8859-1'\n",
      "*** No CODEPAGE record, no encoding_override: will use 'iso-8859-1'\n",
      "*** No CODEPAGE record, no encoding_override: will use 'iso-8859-1'\n",
      "*** No CODEPAGE record, no encoding_override: will use 'iso-8859-1'\n",
      "*** No CODEPAGE record, no encoding_override: will use 'iso-8859-1'\n",
      "*** No CODEPAGE record, no encoding_override: will use 'iso-8859-1'\n",
      "*** No CODEPAGE record, no encoding_override: will use 'iso-8859-1'\n",
      "*** No CODEPAGE record, no encoding_override: will use 'iso-8859-1'\n",
      "*** No CODEPAGE record, no encoding_override: will use 'iso-8859-1'\n",
      "*** No CODEPAGE record, no encoding_override: will use 'iso-8859-1'\n",
      "*** No CODEPAGE record, no encoding_override: will use 'iso-8859-1'\n",
      "*** No CODEPAGE record, no encoding_override: will use 'iso-8859-1'\n",
      "*** No CODEPAGE record, no encoding_override: will use 'iso-8859-1'\n",
      "*** No CODEPAGE record, no encoding_override: will use 'iso-8859-1'\n",
      "*** No CODEPAGE record, no encoding_override: will use 'iso-8859-1'\n",
      "*** No CODEPAGE record, no encoding_override: will use 'iso-8859-1'\n",
      "*** No CODEPAGE record, no encoding_override: will use 'iso-8859-1'\n",
      "*** No CODEPAGE record, no encoding_override: will use 'iso-8859-1'\n",
      "*** No CODEPAGE record, no encoding_override: will use 'iso-8859-1'\n",
      "*** No CODEPAGE record, no encoding_override: will use 'iso-8859-1'\n",
      "*** No CODEPAGE record, no encoding_override: will use 'iso-8859-1'\n",
      "*** No CODEPAGE record, no encoding_override: will use 'iso-8859-1'\n",
      "*** No CODEPAGE record, no encoding_override: will use 'iso-8859-1'\n",
      "*** No CODEPAGE record, no encoding_override: will use 'iso-8859-1'\n",
      "*** No CODEPAGE record, no encoding_override: will use 'iso-8859-1'\n",
      "*** No CODEPAGE record, no encoding_override: will use 'iso-8859-1'\n"
     ]
    },
    {
     "name": "stdout",
     "output_type": "stream",
     "text": [
      "*** No CODEPAGE record, no encoding_override: will use 'iso-8859-1'\n",
      "*** No CODEPAGE record, no encoding_override: will use 'iso-8859-1'\n",
      "*** No CODEPAGE record, no encoding_override: will use 'iso-8859-1'\n",
      "*** No CODEPAGE record, no encoding_override: will use 'iso-8859-1'\n",
      "*** No CODEPAGE record, no encoding_override: will use 'iso-8859-1'\n",
      "*** No CODEPAGE record, no encoding_override: will use 'iso-8859-1'\n",
      "*** No CODEPAGE record, no encoding_override: will use 'iso-8859-1'\n",
      "*** No CODEPAGE record, no encoding_override: will use 'iso-8859-1'\n",
      "*** No CODEPAGE record, no encoding_override: will use 'iso-8859-1'\n",
      "*** No CODEPAGE record, no encoding_override: will use 'iso-8859-1'\n",
      "*** No CODEPAGE record, no encoding_override: will use 'iso-8859-1'\n",
      "*** No CODEPAGE record, no encoding_override: will use 'iso-8859-1'\n",
      "*** No CODEPAGE record, no encoding_override: will use 'iso-8859-1'\n",
      "*** No CODEPAGE record, no encoding_override: will use 'iso-8859-1'\n",
      "*** No CODEPAGE record, no encoding_override: will use 'iso-8859-1'\n",
      "*** No CODEPAGE record, no encoding_override: will use 'iso-8859-1'\n",
      "*** No CODEPAGE record, no encoding_override: will use 'iso-8859-1'\n",
      "*** No CODEPAGE record, no encoding_override: will use 'iso-8859-1'\n",
      "*** No CODEPAGE record, no encoding_override: will use 'iso-8859-1'\n",
      "*** No CODEPAGE record, no encoding_override: will use 'iso-8859-1'\n",
      "*** No CODEPAGE record, no encoding_override: will use 'iso-8859-1'\n",
      "*** No CODEPAGE record, no encoding_override: will use 'iso-8859-1'\n",
      "*** No CODEPAGE record, no encoding_override: will use 'iso-8859-1'\n",
      "*** No CODEPAGE record, no encoding_override: will use 'iso-8859-1'\n",
      "*** No CODEPAGE record, no encoding_override: will use 'iso-8859-1'\n",
      "*** No CODEPAGE record, no encoding_override: will use 'iso-8859-1'\n",
      "*** No CODEPAGE record, no encoding_override: will use 'iso-8859-1'\n",
      "*** No CODEPAGE record, no encoding_override: will use 'iso-8859-1'\n",
      "*** No CODEPAGE record, no encoding_override: will use 'iso-8859-1'\n",
      "*** No CODEPAGE record, no encoding_override: will use 'iso-8859-1'\n",
      "*** No CODEPAGE record, no encoding_override: will use 'iso-8859-1'\n",
      "*** No CODEPAGE record, no encoding_override: will use 'iso-8859-1'\n",
      "*** No CODEPAGE record, no encoding_override: will use 'iso-8859-1'\n",
      "*** No CODEPAGE record, no encoding_override: will use 'iso-8859-1'\n",
      "*** No CODEPAGE record, no encoding_override: will use 'iso-8859-1'\n",
      "*** No CODEPAGE record, no encoding_override: will use 'iso-8859-1'\n",
      "*** No CODEPAGE record, no encoding_override: will use 'iso-8859-1'\n",
      "*** No CODEPAGE record, no encoding_override: will use 'iso-8859-1'\n",
      "*** No CODEPAGE record, no encoding_override: will use 'iso-8859-1'\n",
      "*** No CODEPAGE record, no encoding_override: will use 'iso-8859-1'\n",
      "*** No CODEPAGE record, no encoding_override: will use 'iso-8859-1'\n",
      "*** No CODEPAGE record, no encoding_override: will use 'iso-8859-1'\n"
     ]
    }
   ],
   "source": [
    "#READ CEXCEL FILES AND CONVERT THEM TO CSV FILES AND COMBINE THEM TO ONE FILE\n",
    "root = '/home/mahnaz/Desktop/iCAIRD_new_slide_labels'\n",
    "excel_files_dir  = os.path.join(root + '/excel_files')\n",
    "csv_files_dir = os.path.join(root + '/csv_files')\n",
    "\n",
    "filenames = os.listdir(excel_files_dir)\n",
    "for filename in filenames:\n",
    "    #print('processing {}'.format(filename))\n",
    "    if '.xls' in filename:\n",
    "        read_file = pd.read_excel( excel_files_dir + '/'+ filename)\n",
    "        read_file.to_csv (csv_files_dir +'/' +filename.split('.')[0] + '.csv', index = None, header=True, encoding = 'utf-8-sig')\n",
    "        \n",
    "all_filenames = os.listdir(csv_files_dir)"
   ]
  },
  {
   "cell_type": "code",
   "execution_count": 3,
   "metadata": {},
   "outputs": [
    {
     "data": {
      "text/html": [
       "<div>\n",
       "<style scoped>\n",
       "    .dataframe tbody tr th:only-of-type {\n",
       "        vertical-align: middle;\n",
       "    }\n",
       "\n",
       "    .dataframe tbody tr th {\n",
       "        vertical-align: top;\n",
       "    }\n",
       "\n",
       "    .dataframe thead th {\n",
       "        text-align: right;\n",
       "    }\n",
       "</style>\n",
       "<table border=\"1\" class=\"dataframe\">\n",
       "  <thead>\n",
       "    <tr style=\"text-align: right;\">\n",
       "      <th></th>\n",
       "      <th>AnnotationBatch</th>\n",
       "      <th>ImageName</th>\n",
       "      <th>SampleID</th>\n",
       "      <th>Site</th>\n",
       "      <th>Microtome</th>\n",
       "      <th>Thickness</th>\n",
       "      <th>SampleType</th>\n",
       "      <th>StainingSiteID</th>\n",
       "      <th>StainingProtocol</th>\n",
       "      <th>Cat</th>\n",
       "      <th>SubCat</th>\n",
       "      <th>Revised</th>\n",
       "      <th>ExcludedFromAnnotation</th>\n",
       "      <th>ExclusionReason</th>\n",
       "    </tr>\n",
       "  </thead>\n",
       "  <tbody>\n",
       "    <tr>\n",
       "      <th>27</th>\n",
       "      <td>36</td>\n",
       "      <td>IC-EN-00001-01</td>\n",
       "      <td>IC-EN-00001</td>\n",
       "      <td>NG</td>\n",
       "      <td>2</td>\n",
       "      <td>4µm</td>\n",
       "      <td>EN</td>\n",
       "      <td>3</td>\n",
       "      <td>paeds protocol</td>\n",
       "      <td>other/benign</td>\n",
       "      <td>menstrual</td>\n",
       "      <td>0</td>\n",
       "      <td>0</td>\n",
       "      <td>NaN</td>\n",
       "    </tr>\n",
       "    <tr>\n",
       "      <th>28</th>\n",
       "      <td>36</td>\n",
       "      <td>IC-EN-00003-01</td>\n",
       "      <td>IC-EN-00003</td>\n",
       "      <td>QEUH</td>\n",
       "      <td>1</td>\n",
       "      <td>3µm</td>\n",
       "      <td>EN</td>\n",
       "      <td>3</td>\n",
       "      <td>paeds protocol</td>\n",
       "      <td>other/benign</td>\n",
       "      <td>secretory</td>\n",
       "      <td>0</td>\n",
       "      <td>0</td>\n",
       "      <td>NaN</td>\n",
       "    </tr>\n",
       "    <tr>\n",
       "      <th>29</th>\n",
       "      <td>36</td>\n",
       "      <td>IC-EN-00004-01</td>\n",
       "      <td>IC-EN-00004</td>\n",
       "      <td>RAH</td>\n",
       "      <td>1</td>\n",
       "      <td>3µm</td>\n",
       "      <td>EN</td>\n",
       "      <td>1</td>\n",
       "      <td>routine H&amp;E</td>\n",
       "      <td>other/benign</td>\n",
       "      <td>secretory</td>\n",
       "      <td>0</td>\n",
       "      <td>0</td>\n",
       "      <td>NaN</td>\n",
       "    </tr>\n",
       "    <tr>\n",
       "      <th>25</th>\n",
       "      <td>93</td>\n",
       "      <td>IC-EN-00005-01</td>\n",
       "      <td>IC-EN-00005</td>\n",
       "      <td>SG</td>\n",
       "      <td>1</td>\n",
       "      <td>3µm</td>\n",
       "      <td>EN</td>\n",
       "      <td>8</td>\n",
       "      <td>muscle (hand staining protocol)</td>\n",
       "      <td>other/benign</td>\n",
       "      <td>secretory</td>\n",
       "      <td>1</td>\n",
       "      <td>0</td>\n",
       "      <td>NaN</td>\n",
       "    </tr>\n",
       "    <tr>\n",
       "      <th>26</th>\n",
       "      <td>93</td>\n",
       "      <td>IC-EN-00006-01</td>\n",
       "      <td>IC-EN-00006</td>\n",
       "      <td>SG</td>\n",
       "      <td>1</td>\n",
       "      <td>4µm</td>\n",
       "      <td>EN</td>\n",
       "      <td>1</td>\n",
       "      <td>routine H&amp;E</td>\n",
       "      <td>insufficient</td>\n",
       "      <td>insufficient</td>\n",
       "      <td>1</td>\n",
       "      <td>0</td>\n",
       "      <td>NaN</td>\n",
       "    </tr>\n",
       "    <tr>\n",
       "      <th>...</th>\n",
       "      <td>...</td>\n",
       "      <td>...</td>\n",
       "      <td>...</td>\n",
       "      <td>...</td>\n",
       "      <td>...</td>\n",
       "      <td>...</td>\n",
       "      <td>...</td>\n",
       "      <td>...</td>\n",
       "      <td>...</td>\n",
       "      <td>...</td>\n",
       "      <td>...</td>\n",
       "      <td>...</td>\n",
       "      <td>...</td>\n",
       "      <td>...</td>\n",
       "    </tr>\n",
       "    <tr>\n",
       "      <th>47</th>\n",
       "      <td>111</td>\n",
       "      <td>IC-EN-03220-01</td>\n",
       "      <td>IC-EN-03220</td>\n",
       "      <td>RAH</td>\n",
       "      <td>1</td>\n",
       "      <td>3µm</td>\n",
       "      <td>EN</td>\n",
       "      <td>8</td>\n",
       "      <td>muscle (hand staining protocol)</td>\n",
       "      <td>other/benign</td>\n",
       "      <td>proliferative</td>\n",
       "      <td>0</td>\n",
       "      <td>0</td>\n",
       "      <td>NaN</td>\n",
       "    </tr>\n",
       "    <tr>\n",
       "      <th>48</th>\n",
       "      <td>111</td>\n",
       "      <td>IC-EN-03221-01</td>\n",
       "      <td>IC-EN-03221</td>\n",
       "      <td>SG</td>\n",
       "      <td>3</td>\n",
       "      <td>4µm</td>\n",
       "      <td>EN</td>\n",
       "      <td>7</td>\n",
       "      <td>muscle (hand staining protocol)</td>\n",
       "      <td>malignant</td>\n",
       "      <td>adenocarcinoma</td>\n",
       "      <td>0</td>\n",
       "      <td>0</td>\n",
       "      <td>NaN</td>\n",
       "    </tr>\n",
       "    <tr>\n",
       "      <th>49</th>\n",
       "      <td>111</td>\n",
       "      <td>IC-EN-03222-01</td>\n",
       "      <td>IC-EN-03222</td>\n",
       "      <td>NG</td>\n",
       "      <td>3</td>\n",
       "      <td>3µm</td>\n",
       "      <td>EN</td>\n",
       "      <td>4</td>\n",
       "      <td>paeds protocol</td>\n",
       "      <td>other/benign</td>\n",
       "      <td>menstrual</td>\n",
       "      <td>0</td>\n",
       "      <td>0</td>\n",
       "      <td>NaN</td>\n",
       "    </tr>\n",
       "    <tr>\n",
       "      <th>48</th>\n",
       "      <td>76</td>\n",
       "      <td>IC-EN-03223-01</td>\n",
       "      <td>IC-EN-03223</td>\n",
       "      <td>NG</td>\n",
       "      <td>3</td>\n",
       "      <td>3µm</td>\n",
       "      <td>EN</td>\n",
       "      <td>5</td>\n",
       "      <td>neuro (hand staining protocol)</td>\n",
       "      <td>other/benign</td>\n",
       "      <td>menstrual</td>\n",
       "      <td>0</td>\n",
       "      <td>0</td>\n",
       "      <td>NaN</td>\n",
       "    </tr>\n",
       "    <tr>\n",
       "      <th>49</th>\n",
       "      <td>76</td>\n",
       "      <td>IC-EN-03224-01</td>\n",
       "      <td>IC-EN-03224</td>\n",
       "      <td>NG</td>\n",
       "      <td>2</td>\n",
       "      <td>4µm</td>\n",
       "      <td>EN</td>\n",
       "      <td>1</td>\n",
       "      <td>routine H&amp;E</td>\n",
       "      <td>other/benign</td>\n",
       "      <td>secretory</td>\n",
       "      <td>0</td>\n",
       "      <td>0</td>\n",
       "      <td>NaN</td>\n",
       "    </tr>\n",
       "  </tbody>\n",
       "</table>\n",
       "<p>2910 rows × 14 columns</p>\n",
       "</div>"
      ],
      "text/plain": [
       "    AnnotationBatch       ImageName     SampleID  Site  Microtome Thickness  \\\n",
       "27               36  IC-EN-00001-01  IC-EN-00001    NG          2       4µm   \n",
       "28               36  IC-EN-00003-01  IC-EN-00003  QEUH          1       3µm   \n",
       "29               36  IC-EN-00004-01  IC-EN-00004   RAH          1       3µm   \n",
       "25               93  IC-EN-00005-01  IC-EN-00005    SG          1       3µm   \n",
       "26               93  IC-EN-00006-01  IC-EN-00006    SG          1       4µm   \n",
       "..              ...             ...          ...   ...        ...       ...   \n",
       "47              111  IC-EN-03220-01  IC-EN-03220   RAH          1       3µm   \n",
       "48              111  IC-EN-03221-01  IC-EN-03221    SG          3       4µm   \n",
       "49              111  IC-EN-03222-01  IC-EN-03222    NG          3       3µm   \n",
       "48               76  IC-EN-03223-01  IC-EN-03223    NG          3       3µm   \n",
       "49               76  IC-EN-03224-01  IC-EN-03224    NG          2       4µm   \n",
       "\n",
       "   SampleType  StainingSiteID                 StainingProtocol           Cat  \\\n",
       "27         EN               3                   paeds protocol  other/benign   \n",
       "28         EN               3                   paeds protocol  other/benign   \n",
       "29         EN               1                      routine H&E  other/benign   \n",
       "25         EN               8  muscle (hand staining protocol)  other/benign   \n",
       "26         EN               1                      routine H&E  insufficient   \n",
       "..        ...             ...                              ...           ...   \n",
       "47         EN               8  muscle (hand staining protocol)  other/benign   \n",
       "48         EN               7  muscle (hand staining protocol)     malignant   \n",
       "49         EN               4                   paeds protocol  other/benign   \n",
       "48         EN               5   neuro (hand staining protocol)  other/benign   \n",
       "49         EN               1                      routine H&E  other/benign   \n",
       "\n",
       "            SubCat  Revised  ExcludedFromAnnotation ExclusionReason  \n",
       "27       menstrual        0                       0             NaN  \n",
       "28       secretory        0                       0             NaN  \n",
       "29       secretory        0                       0             NaN  \n",
       "25       secretory        1                       0             NaN  \n",
       "26    insufficient        1                       0             NaN  \n",
       "..             ...      ...                     ...             ...  \n",
       "47   proliferative        0                       0             NaN  \n",
       "48  adenocarcinoma        0                       0             NaN  \n",
       "49       menstrual        0                       0             NaN  \n",
       "48       menstrual        0                       0             NaN  \n",
       "49       secretory        0                       0             NaN  \n",
       "\n",
       "[2910 rows x 14 columns]"
      ]
     },
     "execution_count": 3,
     "metadata": {},
     "output_type": "execute_result"
    }
   ],
   "source": [
    "#combine all files in the list\n",
    "df_all = pd.concat([pd.read_csv(csv_files_dir+ '/'+ f) for f in all_filenames ])\n",
    "#print('Total umber of slides: {}'.format(len(df_all)))\n",
    "\n",
    "#sperate endometrial files\n",
    "total_endometrial = df_all[df_all.SampleType =='EN']\n",
    "endo = total_endometrial[total_endometrial.ExcludedFromAnnotation==0]\n",
    "endo = endo.sort_values(by ='ImageName')\n",
    "endo['Cat'] = endo['Cat'].str.lower()\n",
    "endo['SubCat'] = endo['SubCat'].str.lower()\n",
    "\n",
    "endo"
   ]
  },
  {
   "cell_type": "code",
   "execution_count": 4,
   "metadata": {},
   "outputs": [
    {
     "data": {
      "text/plain": [
       "adenocarcinoma             519\n",
       "hyperplasia with atypia    226\n",
       "carcinosarcoma              83\n",
       "sarcoma                     25\n",
       "other                        8\n",
       "Name: SubCat, dtype: int64"
      ]
     },
     "execution_count": 4,
     "metadata": {},
     "output_type": "execute_result"
    }
   ],
   "source": [
    "endo_malignant = endo[endo['Cat']=='malignant']\n",
    "endo_malignant['SubCat'].value_counts()"
   ]
  },
  {
   "cell_type": "code",
   "execution_count": 5,
   "metadata": {},
   "outputs": [
    {
     "data": {
      "text/plain": [
       "innactive/atrophic    393\n",
       "secretory             387\n",
       "proliferative         381\n",
       "menstrual             354\n",
       "hormonal              352\n",
       "Name: SubCat, dtype: int64"
      ]
     },
     "execution_count": 5,
     "metadata": {},
     "output_type": "execute_result"
    }
   ],
   "source": [
    "endo_benign = endo[endo['Cat']=='other/benign']\n",
    "endo_benign['SubCat'].value_counts()"
   ]
  },
  {
   "cell_type": "code",
   "execution_count": 6,
   "metadata": {},
   "outputs": [
    {
     "data": {
      "text/html": [
       "<div>\n",
       "<style scoped>\n",
       "    .dataframe tbody tr th:only-of-type {\n",
       "        vertical-align: middle;\n",
       "    }\n",
       "\n",
       "    .dataframe tbody tr th {\n",
       "        vertical-align: top;\n",
       "    }\n",
       "\n",
       "    .dataframe thead th {\n",
       "        text-align: right;\n",
       "    }\n",
       "</style>\n",
       "<table border=\"1\" class=\"dataframe\">\n",
       "  <thead>\n",
       "    <tr style=\"text-align: right;\">\n",
       "      <th></th>\n",
       "      <th>AnnotationBatch</th>\n",
       "      <th>ImageName</th>\n",
       "      <th>SampleID</th>\n",
       "      <th>Site</th>\n",
       "      <th>Microtome</th>\n",
       "      <th>Thickness</th>\n",
       "      <th>SampleType</th>\n",
       "      <th>StainingSiteID</th>\n",
       "      <th>StainingProtocol</th>\n",
       "      <th>Cat</th>\n",
       "      <th>SubCat</th>\n",
       "      <th>Revised</th>\n",
       "      <th>ExcludedFromAnnotation</th>\n",
       "      <th>ExclusionReason</th>\n",
       "    </tr>\n",
       "  </thead>\n",
       "  <tbody>\n",
       "  </tbody>\n",
       "</table>\n",
       "</div>"
      ],
      "text/plain": [
       "Empty DataFrame\n",
       "Columns: [AnnotationBatch, ImageName, SampleID, Site, Microtome, Thickness, SampleType, StainingSiteID, StainingProtocol, Cat, SubCat, Revised, ExcludedFromAnnotation, ExclusionReason]\n",
       "Index: []"
      ]
     },
     "execution_count": 6,
     "metadata": {},
     "output_type": "execute_result"
    }
   ],
   "source": [
    "endo_benign[(endo_benign['Cat']=='other/benign') & (endo_benign['SubCat']=='insufficient')]"
   ]
  },
  {
   "cell_type": "code",
   "execution_count": 7,
   "metadata": {},
   "outputs": [
    {
     "data": {
      "text/plain": [
       "insufficient    182\n",
       "Name: SubCat, dtype: int64"
      ]
     },
     "execution_count": 7,
     "metadata": {},
     "output_type": "execute_result"
    }
   ],
   "source": [
    "endo_insuff = endo[endo['Cat']=='insufficient']\n",
    "endo_insuff['SubCat'].value_counts()"
   ]
  },
  {
   "cell_type": "code",
   "execution_count": 8,
   "metadata": {},
   "outputs": [
    {
     "name": "stdout",
     "output_type": "stream",
     "text": [
      "Train/valid/test count:\n",
      " train    1498\n",
      "test      912\n",
      "valid     500\n",
      "Name: train/valid/test, dtype: int64\n"
     ]
    }
   ],
   "source": [
    "endo['train/valid/test']= endo['AnnotationBatch'].apply(lambda x: 'train' if 36 <= x <=76 else 'test')\n",
    "endo_train = endo[endo['train/valid/test'] == 'train']\n",
    "endo_test = endo[endo['train/valid/test'] == 'test']\n",
    "from sklearn.model_selection import train_test_split\n",
    "train, endo_valid = train_test_split(endo_train, test_size=0.25, random_state=0, stratify=endo_train[['Cat']])\n",
    "endo_valid['train/valid/test'] = 'valid'\n",
    "\n",
    "\n",
    "endo_new = pd.concat([train, endo_valid, endo_test], ignore_index=True)\n",
    "endo_new = endo_new.sort_values(by ='ImageName')\n",
    "endo_new = endo_new.reset_index(drop=True)\n",
    "\n",
    "\n",
    "print('Train/valid/test count:\\n', endo_new['train/valid/test'].value_counts())"
   ]
  },
  {
   "cell_type": "code",
   "execution_count": 9,
   "metadata": {},
   "outputs": [
    {
     "name": "stdout",
     "output_type": "stream",
     "text": [
      "\n",
      "\n",
      "Categorycount:\n",
      " other/benign    1867\n",
      "malignant        861\n",
      "insufficient     182\n",
      "Name: Cat, dtype: int64\n"
     ]
    }
   ],
   "source": [
    "print('\\n\\nCategorycount:\\n', endo_new['Cat'].value_counts())"
   ]
  },
  {
   "cell_type": "code",
   "execution_count": 10,
   "metadata": {},
   "outputs": [
    {
     "data": {
      "text/plain": [
       "adenocarcinoma             519\n",
       "innactive/atrophic         393\n",
       "secretory                  387\n",
       "proliferative              381\n",
       "menstrual                  354\n",
       "hormonal                   352\n",
       "hyperplasia with atypia    226\n",
       "insufficient               182\n",
       "carcinosarcoma              83\n",
       "sarcoma                     25\n",
       "other                        8\n",
       "Name: SubCat, dtype: int64"
      ]
     },
     "execution_count": 10,
     "metadata": {},
     "output_type": "execute_result"
    }
   ],
   "source": [
    "endo_new['SubCat'].value_counts()"
   ]
  },
  {
   "cell_type": "code",
   "execution_count": 11,
   "metadata": {},
   "outputs": [
    {
     "data": {
      "text/plain": [
       "2    347\n",
       "4    346\n",
       "1    343\n",
       "3    331\n",
       "5    319\n",
       "7    312\n",
       "Name: StainingSiteID, dtype: int64"
      ]
     },
     "execution_count": 11,
     "metadata": {},
     "output_type": "execute_result"
    }
   ],
   "source": [
    "endo_train['StainingSiteID'].value_counts()"
   ]
  },
  {
   "cell_type": "code",
   "execution_count": 12,
   "metadata": {},
   "outputs": [
    {
     "data": {
      "text/plain": [
       "3    91\n",
       "7    85\n",
       "5    85\n",
       "4    81\n",
       "2    81\n",
       "1    77\n",
       "Name: StainingSiteID, dtype: int64"
      ]
     },
     "execution_count": 12,
     "metadata": {},
     "output_type": "execute_result"
    }
   ],
   "source": [
    "endo_valid['StainingSiteID'].value_counts()"
   ]
  },
  {
   "cell_type": "code",
   "execution_count": 13,
   "metadata": {},
   "outputs": [
    {
     "data": {
      "text/plain": [
       "8    351\n",
       "6    344\n",
       "2     38\n",
       "4     37\n",
       "3     37\n",
       "1     37\n",
       "7     34\n",
       "5     34\n",
       "Name: StainingSiteID, dtype: int64"
      ]
     },
     "execution_count": 13,
     "metadata": {},
     "output_type": "execute_result"
    }
   ],
   "source": [
    "endo_test['StainingSiteID'].value_counts()"
   ]
  },
  {
   "cell_type": "code",
   "execution_count": 14,
   "metadata": {},
   "outputs": [
    {
     "data": {
      "text/plain": [
       "other/benign    61\n",
       "malignant       28\n",
       "insufficient     5\n",
       "Name: Cat, dtype: int64"
      ]
     },
     "execution_count": 14,
     "metadata": {},
     "output_type": "execute_result"
    }
   ],
   "source": [
    "site_NG_1 = endo_new[(endo_new['Site']=='NG') & (endo_new['StainingSiteID']==1)]\n",
    "site_NG_1['Cat'].value_counts()"
   ]
  },
  {
   "cell_type": "code",
   "execution_count": 15,
   "metadata": {},
   "outputs": [
    {
     "data": {
      "text/plain": [
       "adenocarcinoma        24\n",
       "innactive/atrophic    16\n",
       "hormonal              13\n",
       "proliferative         11\n",
       "menstrual             11\n",
       "secretory             10\n",
       "insufficient           5\n",
       "carcinosarcoma         2\n",
       "sarcoma                2\n",
       "Name: SubCat, dtype: int64"
      ]
     },
     "execution_count": 15,
     "metadata": {},
     "output_type": "execute_result"
    }
   ],
   "source": [
    "site_NG_1['SubCat'].value_counts()"
   ]
  },
  {
   "cell_type": "code",
   "execution_count": 16,
   "metadata": {},
   "outputs": [
    {
     "data": {
      "text/plain": [
       "other/benign    60\n",
       "malignant       28\n",
       "insufficient     6\n",
       "Name: Cat, dtype: int64"
      ]
     },
     "execution_count": 16,
     "metadata": {},
     "output_type": "execute_result"
    }
   ],
   "source": [
    "site_NG_2 = endo_new[(endo_new['Site']=='NG') & (endo_new['StainingSiteID']==2)]\n",
    "site_NG_2['Cat'].value_counts()"
   ]
  },
  {
   "cell_type": "code",
   "execution_count": 17,
   "metadata": {},
   "outputs": [
    {
     "data": {
      "text/plain": [
       "adenocarcinoma             24\n",
       "secretory                  17\n",
       "innactive/atrophic         13\n",
       "proliferative              11\n",
       "hormonal                   10\n",
       "menstrual                   9\n",
       "insufficient                6\n",
       "carcinosarcoma              2\n",
       "hyperplasia with atypia     2\n",
       "Name: SubCat, dtype: int64"
      ]
     },
     "execution_count": 17,
     "metadata": {},
     "output_type": "execute_result"
    }
   ],
   "source": [
    "site_NG_2['SubCat'].value_counts()"
   ]
  },
  {
   "cell_type": "code",
   "execution_count": 18,
   "metadata": {},
   "outputs": [
    {
     "data": {
      "text/plain": [
       "other/benign    64\n",
       "malignant       32\n",
       "insufficient     5\n",
       "Name: Cat, dtype: int64"
      ]
     },
     "execution_count": 18,
     "metadata": {},
     "output_type": "execute_result"
    }
   ],
   "source": [
    "site_SG_3 = endo_new[(endo_new['Site']=='SG') & (endo_new['StainingSiteID']==3)]\n",
    "site_SG_3['Cat'].value_counts()"
   ]
  },
  {
   "cell_type": "code",
   "execution_count": 19,
   "metadata": {},
   "outputs": [
    {
     "data": {
      "text/plain": [
       "adenocarcinoma             21\n",
       "proliferative              16\n",
       "secretory                  15\n",
       "innactive/atrophic         13\n",
       "hormonal                   11\n",
       "menstrual                   9\n",
       "hyperplasia with atypia     6\n",
       "insufficient                5\n",
       "carcinosarcoma              4\n",
       "sarcoma                     1\n",
       "Name: SubCat, dtype: int64"
      ]
     },
     "execution_count": 19,
     "metadata": {},
     "output_type": "execute_result"
    }
   ],
   "source": [
    "site_SG_3['SubCat'].value_counts()"
   ]
  },
  {
   "cell_type": "code",
   "execution_count": 20,
   "metadata": {},
   "outputs": [
    {
     "data": {
      "text/plain": [
       "other/benign    60\n",
       "malignant       33\n",
       "insufficient     8\n",
       "Name: Cat, dtype: int64"
      ]
     },
     "execution_count": 20,
     "metadata": {},
     "output_type": "execute_result"
    }
   ],
   "source": [
    "site_SG_4 = endo_new[(endo_new['Site']=='SG') & (endo_new['StainingSiteID']==4)]\n",
    "site_SG_4['Cat'].value_counts()"
   ]
  },
  {
   "cell_type": "code",
   "execution_count": 21,
   "metadata": {},
   "outputs": [
    {
     "data": {
      "text/plain": [
       "adenocarcinoma             19\n",
       "hormonal                   13\n",
       "secretory                  13\n",
       "proliferative              12\n",
       "innactive/atrophic         11\n",
       "menstrual                  11\n",
       "hyperplasia with atypia     8\n",
       "insufficient                8\n",
       "carcinosarcoma              3\n",
       "sarcoma                     3\n",
       "Name: SubCat, dtype: int64"
      ]
     },
     "execution_count": 21,
     "metadata": {},
     "output_type": "execute_result"
    }
   ],
   "source": [
    "site_SG_4['SubCat'].value_counts()"
   ]
  },
  {
   "cell_type": "code",
   "execution_count": 22,
   "metadata": {},
   "outputs": [
    {
     "data": {
      "text/plain": [
       "other/benign    60\n",
       "malignant       28\n",
       "insufficient     6\n",
       "Name: Cat, dtype: int64"
      ]
     },
     "execution_count": 22,
     "metadata": {},
     "output_type": "execute_result"
    }
   ],
   "source": [
    "site_QEUH_5 = endo_new[(endo_new['Site']=='QEUH') & (endo_new['StainingSiteID']==5)]\n",
    "site_QEUH_5['Cat'].value_counts()"
   ]
  },
  {
   "cell_type": "code",
   "execution_count": 23,
   "metadata": {},
   "outputs": [
    {
     "data": {
      "text/plain": [
       "innactive/atrophic         14\n",
       "menstrual                  14\n",
       "secretory                  12\n",
       "proliferative              11\n",
       "carcinosarcoma              9\n",
       "hormonal                    9\n",
       "hyperplasia with atypia     9\n",
       "adenocarcinoma              8\n",
       "insufficient                6\n",
       "sarcoma                     1\n",
       "other                       1\n",
       "Name: SubCat, dtype: int64"
      ]
     },
     "execution_count": 23,
     "metadata": {},
     "output_type": "execute_result"
    }
   ],
   "source": [
    "site_QEUH_5['SubCat'].value_counts()"
   ]
  },
  {
   "cell_type": "code",
   "execution_count": 24,
   "metadata": {},
   "outputs": [
    {
     "data": {
      "text/plain": [
       "other/benign    53\n",
       "malignant       23\n",
       "insufficient     5\n",
       "Name: Cat, dtype: int64"
      ]
     },
     "execution_count": 24,
     "metadata": {},
     "output_type": "execute_result"
    }
   ],
   "source": [
    "site_QEUH_6 = endo_new[(endo_new['Site']=='QEUH') & (endo_new['StainingSiteID']==6)]\n",
    "site_QEUH_6['Cat'].value_counts()"
   ]
  },
  {
   "cell_type": "code",
   "execution_count": 25,
   "metadata": {},
   "outputs": [
    {
     "data": {
      "text/plain": [
       "menstrual                  13\n",
       "innactive/atrophic         12\n",
       "hormonal                   10\n",
       "secretory                   9\n",
       "proliferative               9\n",
       "adenocarcinoma              8\n",
       "carcinosarcoma              7\n",
       "hyperplasia with atypia     7\n",
       "insufficient                5\n",
       "sarcoma                     1\n",
       "Name: SubCat, dtype: int64"
      ]
     },
     "execution_count": 25,
     "metadata": {},
     "output_type": "execute_result"
    }
   ],
   "source": [
    "site_QEUH_6['SubCat'].value_counts()"
   ]
  },
  {
   "cell_type": "code",
   "execution_count": 26,
   "metadata": {},
   "outputs": [
    {
     "data": {
      "text/plain": [
       "other/benign    40\n",
       "malignant       15\n",
       "insufficient     3\n",
       "Name: Cat, dtype: int64"
      ]
     },
     "execution_count": 26,
     "metadata": {},
     "output_type": "execute_result"
    }
   ],
   "source": [
    "site_RAH_7 = endo_new[(endo_new['Site']=='RAH') & (endo_new['StainingSiteID']==7)]\n",
    "site_RAH_7['Cat'].value_counts()"
   ]
  },
  {
   "cell_type": "code",
   "execution_count": 27,
   "metadata": {},
   "outputs": [
    {
     "data": {
      "text/plain": [
       "innactive/atrophic         10\n",
       "secretory                   9\n",
       "proliferative               8\n",
       "hyperplasia with atypia     7\n",
       "adenocarcinoma              7\n",
       "menstrual                   7\n",
       "hormonal                    6\n",
       "insufficient                3\n",
       "other                       1\n",
       "Name: SubCat, dtype: int64"
      ]
     },
     "execution_count": 27,
     "metadata": {},
     "output_type": "execute_result"
    }
   ],
   "source": [
    "site_RAH_7['SubCat'].value_counts()"
   ]
  },
  {
   "cell_type": "code",
   "execution_count": 28,
   "metadata": {},
   "outputs": [
    {
     "data": {
      "text/plain": [
       "other/benign    39\n",
       "malignant       13\n",
       "insufficient     5\n",
       "Name: Cat, dtype: int64"
      ]
     },
     "execution_count": 28,
     "metadata": {},
     "output_type": "execute_result"
    }
   ],
   "source": [
    "site_RAH_8 = endo_new[(endo_new['Site']=='RAH') & (endo_new['StainingSiteID']==8)]\n",
    "site_RAH_8['Cat'].value_counts()"
   ]
  },
  {
   "cell_type": "code",
   "execution_count": 29,
   "metadata": {},
   "outputs": [
    {
     "data": {
      "text/plain": [
       "adenocarcinoma             11\n",
       "proliferative               9\n",
       "innactive/atrophic          8\n",
       "menstrual                   8\n",
       "hormonal                    7\n",
       "secretory                   7\n",
       "insufficient                5\n",
       "hyperplasia with atypia     2\n",
       "Name: SubCat, dtype: int64"
      ]
     },
     "execution_count": 29,
     "metadata": {},
     "output_type": "execute_result"
    }
   ],
   "source": [
    "site_RAH_8['SubCat'].value_counts()"
   ]
  },
  {
   "cell_type": "code",
   "execution_count": 30,
   "metadata": {},
   "outputs": [
    {
     "data": {
      "text/plain": [
       "SG      535\n",
       "QEUH    518\n",
       "NG      507\n",
       "RAH     438\n",
       "Name: Site, dtype: int64"
      ]
     },
     "execution_count": 30,
     "metadata": {},
     "output_type": "execute_result"
    }
   ],
   "source": [
    "endo_train['Site'].value_counts()"
   ]
  },
  {
   "cell_type": "code",
   "execution_count": null,
   "metadata": {},
   "outputs": [],
   "source": []
  }
 ],
 "metadata": {
  "kernelspec": {
   "display_name": "repath",
   "language": "python",
   "name": "repath"
  },
  "language_info": {
   "codemirror_mode": {
    "name": "ipython",
    "version": 3
   },
   "file_extension": ".py",
   "mimetype": "text/x-python",
   "name": "python",
   "nbconvert_exporter": "python",
   "pygments_lexer": "ipython3",
   "version": "3.6.12"
  }
 },
 "nbformat": 4,
 "nbformat_minor": 4
}
